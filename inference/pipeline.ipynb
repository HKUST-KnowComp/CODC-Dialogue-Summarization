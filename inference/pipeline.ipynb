{
 "cells": [
  {
   "cell_type": "markdown",
   "metadata": {},
   "source": [
    "1. acquire concepts_file/dial_concept_synsets_min_depth_4_train.npy, codc_no_filter_train.npy\n",
    "\n",
    "\n",
    "2. acquire concepts_file/G_dis4_nofilter.pickle \n",
    "\n",
    "\n",
    "3. acquire similarities, prepared_knowledge/train_w2v_sim.npy, train_glove_sim.npy, train_esa_nofilter_G_dis4_candi10.npy\n",
    "\n",
    "\n",
    "4. acquire training/testing candidates\n"
   ]
  },
  {
   "cell_type": "code",
   "execution_count": null,
   "metadata": {},
   "outputs": [],
   "source": [
    "# 1. get concept files\n",
    "nohup python -u get_concepts.py > logs/log_get_concepts\n",
    "\n",
    "\"\"\"\n",
    "Hyperparameters:\n",
    "\n",
    "filter-words: \n",
    "  1. the whole list of filter words (used in EMNLP2020)\n",
    "  2. Just filter out [\"top\",\"animation\",\"photo\",\"picture\",\"image\",\"photograph\",\"thing\",\"-PRON-\"]\n",
    "\n",
    "min-wn-depth:\n",
    "  - Set to 4 (Nothing too special). Only around 150 words whose depth is leq 4.\n",
    "\"\"\"\n",
    "--min-wn-depth\n",
    "--filter-words\n",
    "--filter-name"
   ]
  },
  {
   "cell_type": "code",
   "execution_count": null,
   "metadata": {},
   "outputs": [],
   "source": [
    "# 2. get concept files\n",
    "python get_codc.py\n",
    "\"\"\"\n",
    "Hyperparameters:\n",
    "\n",
    "min-dist:\n",
    "  - 0/1.\n",
    "\"\"\"\n",
    "--min-wn-depth\n",
    "--filter-name\n",
    "--min-dist"
   ]
  },
  {
   "cell_type": "code",
   "execution_count": null,
   "metadata": {},
   "outputs": [],
   "source": [
    "# 3. Build Cooccurance Graph\n",
    "python build_graph.py \n",
    "\n",
    "\"\"\"\n",
    "Hyperparameters:\n",
    "\n",
    "- min-depth (in get_concept)\n",
    "- min-dis (in get_codc)\n",
    "- connect-dist: the two nodes are connected only when their path length <= connect-dist\n",
    "- filter-weight: whether filter out the edges with occurance == 1\n",
    "\"\"\""
   ]
  },
  {
   "cell_type": "code",
   "execution_count": 2,
   "metadata": {},
   "outputs": [
    {
     "data": {
      "text/plain": [
       "'\\n  And also, when it comes to calculate ESA, I should limit the neighbors in the training set.\\n'"
      ]
     },
     "execution_count": 2,
     "metadata": {},
     "output_type": "execute_result"
    }
   ],
   "source": [
    "# 4. get features\n",
    "\n",
    "python get_features.py\n",
    "\"\"\"\n",
    "  Hyper params:\n",
    "  \n",
    "  min_cooccurance: when finding candidate, \n",
    "    a word should cooccur with at least min_cooccurance neighbors in the dialog.\n",
    "    Just set it as 2\n",
    "\"\"\"\n",
    "\"\"\"\n",
    "  And also, when it comes to calculate ESA, I should limit the neighbors in the training set.\n",
    "\"\"\""
   ]
  },
  {
   "cell_type": "code",
   "execution_count": null,
   "metadata": {},
   "outputs": [],
   "source": []
  }
 ],
 "metadata": {
  "kernelspec": {
   "display_name": "Python 3",
   "language": "python",
   "name": "python3"
  },
  "language_info": {
   "codemirror_mode": {
    "name": "ipython",
    "version": 3
   },
   "file_extension": ".py",
   "mimetype": "text/x-python",
   "name": "python",
   "nbconvert_exporter": "python",
   "pygments_lexer": "ipython3",
   "version": "3.8.5"
  }
 },
 "nbformat": 4,
 "nbformat_minor": 4
}
